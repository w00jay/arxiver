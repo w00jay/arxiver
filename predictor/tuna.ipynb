{
 "cells": [
  {
   "cell_type": "code",
   "execution_count": 3,
   "id": "4fc41329-a02d-4d59-9c49-02cb81b436c4",
   "metadata": {},
   "outputs": [],
   "source": [
    "import json\n",
    "import sqlite3\n",
    "\n",
    "import chromadb\n",
    "import numpy as np\n",
    "from chromadb.utils import embedding_functions\n",
    "from sklearn.metrics import classification_report\n",
    "from sklearn.model_selection import train_test_split\n",
    "from tensorflow.keras.layers import Dense, Dropout\n",
    "from tensorflow.keras.models import Sequential"
   ]
  },
  {
   "cell_type": "code",
   "execution_count": 4,
   "id": "12d5a1f3-f51f-4fa0-9389-7347d112400e",
   "metadata": {},
   "outputs": [],
   "source": [
    "TRAIN_CUTOFF = 2711  # 2424 2155 1880 1572 1016 817 502 260"
   ]
  },
  {
   "cell_type": "code",
   "execution_count": 5,
   "id": "ec93842d-1664-4794-bd1b-3f9e7645a332",
   "metadata": {},
   "outputs": [],
   "source": [
    "# db = \"../data/arxiv_papers.db\"\n",
    "# last_interested = find_last_interested_entry(db)\n",
    "# print(json.dumps(last_interested, indent=4))"
   ]
  },
  {
   "cell_type": "code",
   "execution_count": 7,
   "id": "5739d1dd-5d42-409a-ae1a-f7d4b23b0caa",
   "metadata": {},
   "outputs": [],
   "source": [
    "def get_data(database_path):\n",
    "    # Create a database connection\n",
    "    conn = sqlite3.connect(database_path)\n",
    "    cursor = conn.cursor()\n",
    "    cursor.row_factory = sqlite3.Row\n",
    "\n",
    "    # SQL query to find the last occurrence of \"interested\" = 1\n",
    "    query = f\"\"\"\n",
    "    SELECT paper_id, concise_summary, interested FROM papers \n",
    "    ORDER BY paper_id ASC \n",
    "    LIMIT {TRAIN_CUTOFF};\n",
    "    \"\"\"\n",
    "\n",
    "    try:\n",
    "        cursor.execute(query)\n",
    "        articles = cursor.fetchall()\n",
    "        if articles:\n",
    "            print(f\"Got {len(articles)}.\")\n",
    "            return articles\n",
    "        else:\n",
    "            print(\"No interested entries found.\")\n",
    "            return nil\n",
    "    except sqlite3.Error as e:\n",
    "        print(\"Database error:\", e)\n",
    "    finally:\n",
    "        conn.close()"
   ]
  },
  {
   "cell_type": "code",
   "execution_count": 8,
   "id": "f9e35090-8a3a-4c19-ae42-43937c976d23",
   "metadata": {},
   "outputs": [],
   "source": [
    "def get_embedding(paper_id, vdb_path=\"../data/arxiv_embeddings.chroma\"):\n",
    "    vdb = chromadb.PersistentClient(vdb_path)\n",
    "    sentence_transformer_ef = embedding_functions.SentenceTransformerEmbeddingFunction(\n",
    "        model_name=\"all-MiniLM-L6-v2\"\n",
    "    )\n",
    "    embedding_func = sentence_transformer_ef\n",
    "    vectors = vdb.get_or_create_collection(\n",
    "        name=\"arxiver\", embedding_function=embedding_func\n",
    "    )\n",
    "\n",
    "    res = vectors.get(ids=[paper_id], limit=1, include=[\"embeddings\"])\n",
    "    # print(res)\n",
    "    # print(f'{res[\"ids\"][0]} {res[\"embeddings\"][0]}')\n",
    "    return res[\"embeddings\"][0]"
   ]
  },
  {
   "cell_type": "code",
   "execution_count": 9,
   "id": "cf96d30d-5c9b-4759-aea3-7fc13cc6c9c5",
   "metadata": {},
   "outputs": [
    {
     "name": "stdout",
     "output_type": "stream",
     "text": [
      "Got 2711.\n"
     ]
    },
    {
     "name": "stderr",
     "output_type": "stream",
     "text": [
      "Add of existing embedding ID: http://arxiv.org/abs/1706.03762v7\n"
     ]
    },
    {
     "name": "stdout",
     "output_type": "stream",
     "text": [
      "(2711, 384) (2711,)\n"
     ]
    }
   ],
   "source": [
    "articles = get_data(db)\n",
    "X_article = []\n",
    "y_article = []\n",
    "for article in articles:\n",
    "    # print(\n",
    "    #     f'{article[\"paper_id\"]}, {article[\"interested\"]}\\n{article[\"concise_summary\"]}'\n",
    "    # )\n",
    "    X_article.append(get_embedding(article[\"paper_id\"]))\n",
    "    y_article.append(article[\"interested\"])\n",
    "\n",
    "# print(X_article[:3])\n",
    "# print(y_article[:3])\n",
    "\n",
    "X = np.array(X_article)\n",
    "y = np.array(y_article)\n",
    "\n",
    "# print(X[:1])\n",
    "# print(y[:1])\n",
    "print(X.shape, y.shape)"
   ]
  },
  {
   "cell_type": "code",
   "execution_count": 10,
   "id": "dcd69a45-b2b3-46f3-b8fc-955fe3962318",
   "metadata": {},
   "outputs": [
    {
     "name": "stdout",
     "output_type": "stream",
     "text": [
      "384\n"
     ]
    }
   ],
   "source": [
    "print(len(X[0]))"
   ]
  },
  {
   "cell_type": "code",
   "execution_count": 11,
   "id": "c3a65f3f-fc7c-4029-9a4a-d71cad5ac806",
   "metadata": {},
   "outputs": [],
   "source": [
    "# Train-test split\n",
    "X_train, X_test, y_train, y_test = train_test_split(\n",
    "    X, y, test_size=0.2, random_state=42\n",
    ")"
   ]
  },
  {
   "cell_type": "code",
   "execution_count": 12,
   "id": "54d16fcb-dfa9-464e-b5b1-b080a0b52ec0",
   "metadata": {},
   "outputs": [],
   "source": [
    "def build_model(hp):\n",
    "    model = Sequential()\n",
    "    model.add(\n",
    "        Dense(\n",
    "            units=hp.Int(\"units1\", min_value=32, max_value=512, step=32),\n",
    "            activation=\"relu\",\n",
    "            input_shape=(X_train.shape[1],),\n",
    "        )\n",
    "    )\n",
    "    model.add(\n",
    "        Dropout(rate=hp.Float(\"dropout1\", min_value=0.0, max_value=0.5, step=0.1))\n",
    "    )\n",
    "    model.add(\n",
    "        Dense(\n",
    "            units=hp.Int(\"units2\", min_value=32, max_value=256, step=32),\n",
    "            activation=\"relu\",\n",
    "        )\n",
    "    )\n",
    "    model.add(\n",
    "        Dropout(rate=hp.Float(\"dropout2\", min_value=0.0, max_value=0.5, step=0.1))\n",
    "    )\n",
    "    model.add(Dense(1, activation=\"sigmoid\"))\n",
    "\n",
    "    # Compile model\n",
    "    hp_learning_rate = hp.Choice(\"learning_rate\", values=[1e-2, 1e-3, 1e-4])\n",
    "    model.compile(\n",
    "        optimizer=keras.optimizers.Adam(learning_rate=hp_learning_rate),\n",
    "        loss=\"binary_crossentropy\",\n",
    "        metrics=[\"accuracy\"],\n",
    "    )\n",
    "    return model"
   ]
  },
  {
   "cell_type": "code",
   "execution_count": 25,
   "id": "f08cb665-5166-4406-b0d2-cceadbbaed5c",
   "metadata": {},
   "outputs": [
    {
     "name": "stdout",
     "output_type": "stream",
     "text": [
      "Reloading Tuner from my_dir/arxiv_article_embeddings/tuner0.json\n"
     ]
    }
   ],
   "source": [
    "tuner = RandomSearch(\n",
    "    build_model,\n",
    "    objective=\"val_accuracy\",\n",
    "    max_trials=80,\n",
    "    executions_per_trial=2,\n",
    "    directory=\"my_dir\",\n",
    "    project_name=\"arxiv_article_embeddings\",\n",
    ")"
   ]
  },
  {
   "cell_type": "code",
   "execution_count": 26,
   "id": "35825627-9be9-4a99-b052-d95b4c90c272",
   "metadata": {},
   "outputs": [
    {
     "name": "stdout",
     "output_type": "stream",
     "text": [
      "Trial 80 Complete [00h 00m 13s]\n",
      "val_accuracy: 0.9493087530136108\n",
      "\n",
      "Best val_accuracy So Far: 0.950460821390152\n",
      "Total elapsed time: 19h 11m 33s\n"
     ]
    }
   ],
   "source": [
    "from tensorflow.keras.callbacks import EarlyStopping\n",
    "\n",
    "stop_early = EarlyStopping(monitor=\"val_loss\", patience=5)\n",
    "\n",
    "tuner.search(X_train, y_train, epochs=50, validation_split=0.2, callbacks=[stop_early])\n",
    "\n",
    "# Get the optimal hyperparameters\n",
    "best_hps = tuner.get_best_hyperparameters(num_trials=1)[0]"
   ]
  },
  {
   "cell_type": "code",
   "execution_count": 27,
   "id": "a2ac7c3e-ecd9-46a5-8c39-c3e212a0aef9",
   "metadata": {
    "scrolled": true
   },
   "outputs": [
    {
     "name": "stdout",
     "output_type": "stream",
     "text": [
      "Epoch 1/50\n",
      "55/55 [==============================] - 2s 14ms/step - loss: 0.2648 - accuracy: 0.9348 - val_loss: 0.2040 - val_accuracy: 0.9447\n",
      "Epoch 2/50\n",
      "55/55 [==============================] - 1s 9ms/step - loss: 0.1657 - accuracy: 0.9493 - val_loss: 0.2035 - val_accuracy: 0.9447\n",
      "Epoch 3/50\n",
      "55/55 [==============================] - 1s 12ms/step - loss: 0.1409 - accuracy: 0.9493 - val_loss: 0.2129 - val_accuracy: 0.9447\n",
      "Epoch 4/50\n",
      "55/55 [==============================] - 1s 18ms/step - loss: 0.1180 - accuracy: 0.9493 - val_loss: 0.2212 - val_accuracy: 0.9447\n",
      "Epoch 5/50\n",
      "55/55 [==============================] - 0s 9ms/step - loss: 0.0959 - accuracy: 0.9493 - val_loss: 0.2459 - val_accuracy: 0.9447\n",
      "Epoch 6/50\n",
      "55/55 [==============================] - 0s 9ms/step - loss: 0.0702 - accuracy: 0.9608 - val_loss: 0.2777 - val_accuracy: 0.9516\n",
      "Epoch 7/50\n",
      "55/55 [==============================] - 1s 11ms/step - loss: 0.0466 - accuracy: 0.9856 - val_loss: 0.3214 - val_accuracy: 0.9470\n",
      "Epoch 8/50\n",
      "55/55 [==============================] - 1s 12ms/step - loss: 0.0261 - accuracy: 0.9977 - val_loss: 0.3831 - val_accuracy: 0.9470\n",
      "Epoch 9/50\n",
      "55/55 [==============================] - 0s 8ms/step - loss: 0.0104 - accuracy: 0.9994 - val_loss: 0.4498 - val_accuracy: 0.9470\n",
      "Epoch 10/50\n",
      "55/55 [==============================] - 0s 9ms/step - loss: 0.0043 - accuracy: 1.0000 - val_loss: 0.5159 - val_accuracy: 0.9493\n",
      "Epoch 11/50\n",
      "55/55 [==============================] - 0s 8ms/step - loss: 0.0023 - accuracy: 1.0000 - val_loss: 0.5260 - val_accuracy: 0.9447\n",
      "Epoch 12/50\n",
      "55/55 [==============================] - 1s 11ms/step - loss: 0.0016 - accuracy: 1.0000 - val_loss: 0.5501 - val_accuracy: 0.9447\n",
      "Epoch 13/50\n",
      "55/55 [==============================] - 0s 7ms/step - loss: 0.0010 - accuracy: 1.0000 - val_loss: 0.5662 - val_accuracy: 0.9447\n",
      "Epoch 14/50\n",
      "55/55 [==============================] - 0s 8ms/step - loss: 7.6808e-04 - accuracy: 1.0000 - val_loss: 0.5763 - val_accuracy: 0.9447\n",
      "Epoch 15/50\n",
      "55/55 [==============================] - 1s 9ms/step - loss: 6.9955e-04 - accuracy: 1.0000 - val_loss: 0.5999 - val_accuracy: 0.9447\n",
      "Epoch 16/50\n",
      "55/55 [==============================] - 1s 10ms/step - loss: 4.6397e-04 - accuracy: 1.0000 - val_loss: 0.6150 - val_accuracy: 0.9447\n",
      "Epoch 17/50\n",
      "55/55 [==============================] - 1s 9ms/step - loss: 3.8022e-04 - accuracy: 1.0000 - val_loss: 0.6300 - val_accuracy: 0.9447\n",
      "Epoch 18/50\n",
      "55/55 [==============================] - 0s 8ms/step - loss: 3.1917e-04 - accuracy: 1.0000 - val_loss: 0.6398 - val_accuracy: 0.9447\n",
      "Epoch 19/50\n",
      "55/55 [==============================] - 0s 8ms/step - loss: 2.7385e-04 - accuracy: 1.0000 - val_loss: 0.6452 - val_accuracy: 0.9447\n",
      "Epoch 20/50\n",
      "55/55 [==============================] - 0s 7ms/step - loss: 2.3833e-04 - accuracy: 1.0000 - val_loss: 0.6664 - val_accuracy: 0.9447\n",
      "Epoch 21/50\n",
      "55/55 [==============================] - 0s 9ms/step - loss: 2.3935e-04 - accuracy: 1.0000 - val_loss: 0.6607 - val_accuracy: 0.9447\n",
      "Epoch 22/50\n",
      "55/55 [==============================] - 1s 11ms/step - loss: 1.9170e-04 - accuracy: 1.0000 - val_loss: 0.6598 - val_accuracy: 0.9447\n",
      "Epoch 23/50\n",
      "55/55 [==============================] - 0s 8ms/step - loss: 1.7053e-04 - accuracy: 1.0000 - val_loss: 0.6715 - val_accuracy: 0.9447\n",
      "Epoch 24/50\n",
      "55/55 [==============================] - 0s 9ms/step - loss: 1.7446e-04 - accuracy: 1.0000 - val_loss: 0.6768 - val_accuracy: 0.9447\n",
      "Epoch 25/50\n",
      "55/55 [==============================] - 0s 8ms/step - loss: 1.2403e-04 - accuracy: 1.0000 - val_loss: 0.6784 - val_accuracy: 0.9447\n",
      "Epoch 26/50\n",
      "55/55 [==============================] - 0s 8ms/step - loss: 1.0937e-04 - accuracy: 1.0000 - val_loss: 0.6912 - val_accuracy: 0.9447\n",
      "Epoch 27/50\n",
      "55/55 [==============================] - 0s 8ms/step - loss: 1.2410e-04 - accuracy: 1.0000 - val_loss: 0.6908 - val_accuracy: 0.9447\n",
      "Epoch 28/50\n",
      "55/55 [==============================] - 0s 7ms/step - loss: 9.6526e-05 - accuracy: 1.0000 - val_loss: 0.6990 - val_accuracy: 0.9447\n",
      "Epoch 29/50\n",
      "55/55 [==============================] - 0s 7ms/step - loss: 9.5678e-05 - accuracy: 1.0000 - val_loss: 0.7041 - val_accuracy: 0.9447\n",
      "Epoch 30/50\n",
      "55/55 [==============================] - 0s 8ms/step - loss: 8.6826e-05 - accuracy: 1.0000 - val_loss: 0.7075 - val_accuracy: 0.9424\n",
      "Epoch 31/50\n",
      "55/55 [==============================] - 1s 9ms/step - loss: 8.0464e-05 - accuracy: 1.0000 - val_loss: 0.7173 - val_accuracy: 0.9447\n",
      "Epoch 32/50\n",
      "55/55 [==============================] - 1s 10ms/step - loss: 7.1224e-05 - accuracy: 1.0000 - val_loss: 0.7169 - val_accuracy: 0.9447\n",
      "Epoch 33/50\n",
      "55/55 [==============================] - 0s 8ms/step - loss: 6.4629e-05 - accuracy: 1.0000 - val_loss: 0.7230 - val_accuracy: 0.9447\n",
      "Epoch 34/50\n",
      "55/55 [==============================] - 1s 10ms/step - loss: 6.1518e-05 - accuracy: 1.0000 - val_loss: 0.7222 - val_accuracy: 0.9424\n",
      "Epoch 35/50\n",
      "55/55 [==============================] - 1s 12ms/step - loss: 6.3540e-05 - accuracy: 1.0000 - val_loss: 0.7301 - val_accuracy: 0.9447\n",
      "Epoch 36/50\n",
      "55/55 [==============================] - 1s 11ms/step - loss: 5.0506e-05 - accuracy: 1.0000 - val_loss: 0.7363 - val_accuracy: 0.9447\n",
      "Epoch 37/50\n",
      "55/55 [==============================] - 0s 9ms/step - loss: 4.8818e-05 - accuracy: 1.0000 - val_loss: 0.7384 - val_accuracy: 0.9447\n",
      "Epoch 38/50\n",
      "55/55 [==============================] - 0s 8ms/step - loss: 4.3094e-05 - accuracy: 1.0000 - val_loss: 0.7468 - val_accuracy: 0.9447\n",
      "Epoch 39/50\n",
      "55/55 [==============================] - 0s 8ms/step - loss: 3.5931e-05 - accuracy: 1.0000 - val_loss: 0.7473 - val_accuracy: 0.9424\n",
      "Epoch 40/50\n",
      "55/55 [==============================] - 0s 8ms/step - loss: 3.9145e-05 - accuracy: 1.0000 - val_loss: 0.7518 - val_accuracy: 0.9424\n",
      "Epoch 41/50\n",
      "55/55 [==============================] - 0s 8ms/step - loss: 3.5718e-05 - accuracy: 1.0000 - val_loss: 0.7493 - val_accuracy: 0.9424\n",
      "Epoch 42/50\n",
      "55/55 [==============================] - 0s 9ms/step - loss: 3.6049e-05 - accuracy: 1.0000 - val_loss: 0.7513 - val_accuracy: 0.9424\n",
      "Epoch 43/50\n",
      "55/55 [==============================] - 1s 10ms/step - loss: 3.1577e-05 - accuracy: 1.0000 - val_loss: 0.7584 - val_accuracy: 0.9424\n",
      "Epoch 44/50\n",
      "55/55 [==============================] - 0s 8ms/step - loss: 3.5546e-05 - accuracy: 1.0000 - val_loss: 0.7616 - val_accuracy: 0.9447\n",
      "Epoch 45/50\n",
      "55/55 [==============================] - 1s 10ms/step - loss: 2.5887e-05 - accuracy: 1.0000 - val_loss: 0.7630 - val_accuracy: 0.9424\n",
      "Epoch 46/50\n",
      "55/55 [==============================] - 0s 9ms/step - loss: 2.8674e-05 - accuracy: 1.0000 - val_loss: 0.7639 - val_accuracy: 0.9424\n",
      "Epoch 47/50\n",
      "55/55 [==============================] - 0s 8ms/step - loss: 1.8264e-05 - accuracy: 1.0000 - val_loss: 0.7703 - val_accuracy: 0.9447\n",
      "Epoch 48/50\n",
      "55/55 [==============================] - 0s 9ms/step - loss: 2.2914e-05 - accuracy: 1.0000 - val_loss: 0.7714 - val_accuracy: 0.9447\n",
      "Epoch 49/50\n",
      "55/55 [==============================] - 0s 9ms/step - loss: 2.6101e-05 - accuracy: 1.0000 - val_loss: 0.7782 - val_accuracy: 0.9447\n",
      "Epoch 50/50\n",
      "55/55 [==============================] - 0s 8ms/step - loss: 2.2584e-05 - accuracy: 1.0000 - val_loss: 0.7777 - val_accuracy: 0.9447\n"
     ]
    },
    {
     "data": {
      "text/plain": [
       "<keras.src.callbacks.History at 0x7fe6929e67d0>"
      ]
     },
     "execution_count": 27,
     "metadata": {},
     "output_type": "execute_result"
    }
   ],
   "source": [
    "# Build the model with the optimal hyperparameters and train it on the data\n",
    "new_model = tuner.hypermodel.build(best_hps)\n",
    "new_model.fit(X_train, y_train, epochs=50, validation_split=0.2)"
   ]
  },
  {
   "cell_type": "code",
   "execution_count": 30,
   "id": "5916b15a-12f7-4f44-8a3a-7a8c3afb23ab",
   "metadata": {},
   "outputs": [
    {
     "data": {
      "text/plain": [
       "{'units1': 320,\n",
       " 'dropout1': 0.0,\n",
       " 'units2': 224,\n",
       " 'dropout2': 0.4,\n",
       " 'learning_rate': 0.001}"
      ]
     },
     "execution_count": 30,
     "metadata": {},
     "output_type": "execute_result"
    }
   ],
   "source": [
    "best_hps.values"
   ]
  },
  {
   "cell_type": "code",
   "execution_count": 23,
   "id": "1a3e2a09-7073-46b1-8d1a-3d659a9a3ec6",
   "metadata": {},
   "outputs": [],
   "source": [
    "# # best_hps.values @ 20 iter\n",
    "\n",
    "# {'units1': 320,\n",
    "#  'dropout1': 0.0,\n",
    "#  'units2': 224,\n",
    "#  'dropout2': 0.4,\n",
    "#  'learning_rate': 0.001}"
   ]
  },
  {
   "cell_type": "code",
   "execution_count": 29,
   "id": "f12ac4c5-c873-4a01-8c9f-6da191a98ad8",
   "metadata": {},
   "outputs": [
    {
     "name": "stdout",
     "output_type": "stream",
     "text": [
      "Epoch 1/50\n",
      "55/55 [==============================] - 2s 11ms/step - loss: 0.2629 - accuracy: 0.9458 - val_loss: 0.2000 - val_accuracy: 0.9447\n",
      "Epoch 2/50\n",
      "55/55 [==============================] - 0s 6ms/step - loss: 0.1669 - accuracy: 0.9493 - val_loss: 0.2018 - val_accuracy: 0.9447\n",
      "Epoch 3/50\n",
      "55/55 [==============================] - 0s 7ms/step - loss: 0.1415 - accuracy: 0.9493 - val_loss: 0.2113 - val_accuracy: 0.9447\n",
      "Epoch 4/50\n",
      "55/55 [==============================] - 0s 9ms/step - loss: 0.1169 - accuracy: 0.9493 - val_loss: 0.2212 - val_accuracy: 0.9447\n",
      "Epoch 5/50\n",
      "55/55 [==============================] - 1s 16ms/step - loss: 0.0933 - accuracy: 0.9493 - val_loss: 0.2778 - val_accuracy: 0.9447\n",
      "Epoch 6/50\n",
      "55/55 [==============================] - 0s 7ms/step - loss: 0.0756 - accuracy: 0.9608 - val_loss: 0.2885 - val_accuracy: 0.9493\n",
      "Epoch 7/50\n",
      "55/55 [==============================] - 0s 9ms/step - loss: 0.0486 - accuracy: 0.9844 - val_loss: 0.3979 - val_accuracy: 0.9447\n",
      "Epoch 8/50\n",
      "55/55 [==============================] - 0s 8ms/step - loss: 0.0343 - accuracy: 0.9919 - val_loss: 0.4009 - val_accuracy: 0.9470\n",
      "Epoch 9/50\n",
      "55/55 [==============================] - 0s 7ms/step - loss: 0.0158 - accuracy: 0.9977 - val_loss: 0.3924 - val_accuracy: 0.9309\n",
      "Epoch 10/50\n",
      "55/55 [==============================] - 0s 7ms/step - loss: 0.0068 - accuracy: 1.0000 - val_loss: 0.5001 - val_accuracy: 0.9470\n",
      "Epoch 11/50\n",
      "55/55 [==============================] - 0s 7ms/step - loss: 0.0034 - accuracy: 1.0000 - val_loss: 0.4926 - val_accuracy: 0.9401\n",
      "Epoch 12/50\n",
      "55/55 [==============================] - 0s 8ms/step - loss: 0.0019 - accuracy: 1.0000 - val_loss: 0.5297 - val_accuracy: 0.9401\n",
      "Epoch 13/50\n",
      "55/55 [==============================] - 0s 9ms/step - loss: 0.0015 - accuracy: 1.0000 - val_loss: 0.5332 - val_accuracy: 0.9378\n",
      "Epoch 14/50\n",
      "55/55 [==============================] - 0s 8ms/step - loss: 9.1885e-04 - accuracy: 1.0000 - val_loss: 0.5468 - val_accuracy: 0.9378\n",
      "Epoch 15/50\n",
      "55/55 [==============================] - 0s 9ms/step - loss: 7.3235e-04 - accuracy: 1.0000 - val_loss: 0.5604 - val_accuracy: 0.9378\n",
      "Epoch 16/50\n",
      "55/55 [==============================] - 1s 12ms/step - loss: 5.3895e-04 - accuracy: 1.0000 - val_loss: 0.5779 - val_accuracy: 0.9401\n",
      "Epoch 17/50\n",
      "55/55 [==============================] - 0s 8ms/step - loss: 3.9469e-04 - accuracy: 1.0000 - val_loss: 0.5881 - val_accuracy: 0.9401\n",
      "Epoch 18/50\n",
      "55/55 [==============================] - 0s 7ms/step - loss: 3.4270e-04 - accuracy: 1.0000 - val_loss: 0.6005 - val_accuracy: 0.9401\n",
      "Epoch 19/50\n",
      "55/55 [==============================] - 0s 9ms/step - loss: 2.9397e-04 - accuracy: 1.0000 - val_loss: 0.6032 - val_accuracy: 0.9401\n",
      "Epoch 20/50\n",
      "55/55 [==============================] - 0s 8ms/step - loss: 2.6594e-04 - accuracy: 1.0000 - val_loss: 0.6048 - val_accuracy: 0.9401\n",
      "Epoch 21/50\n",
      "55/55 [==============================] - 0s 8ms/step - loss: 2.3573e-04 - accuracy: 1.0000 - val_loss: 0.6207 - val_accuracy: 0.9401\n",
      "Epoch 22/50\n",
      "55/55 [==============================] - 0s 8ms/step - loss: 1.9267e-04 - accuracy: 1.0000 - val_loss: 0.6210 - val_accuracy: 0.9401\n",
      "Epoch 23/50\n",
      "55/55 [==============================] - 0s 8ms/step - loss: 1.6074e-04 - accuracy: 1.0000 - val_loss: 0.6298 - val_accuracy: 0.9401\n",
      "Epoch 24/50\n",
      "55/55 [==============================] - 1s 9ms/step - loss: 1.6481e-04 - accuracy: 1.0000 - val_loss: 0.6351 - val_accuracy: 0.9401\n",
      "Epoch 25/50\n",
      "55/55 [==============================] - 0s 8ms/step - loss: 1.7407e-04 - accuracy: 1.0000 - val_loss: 0.6404 - val_accuracy: 0.9401\n",
      "Epoch 26/50\n",
      "55/55 [==============================] - 0s 7ms/step - loss: 1.5561e-04 - accuracy: 1.0000 - val_loss: 0.6439 - val_accuracy: 0.9401\n",
      "Epoch 27/50\n",
      "55/55 [==============================] - 1s 10ms/step - loss: 1.2066e-04 - accuracy: 1.0000 - val_loss: 0.6497 - val_accuracy: 0.9401\n",
      "Epoch 28/50\n",
      "55/55 [==============================] - 0s 8ms/step - loss: 1.2526e-04 - accuracy: 1.0000 - val_loss: 0.6549 - val_accuracy: 0.9401\n",
      "Epoch 29/50\n",
      "55/55 [==============================] - 1s 11ms/step - loss: 9.0658e-05 - accuracy: 1.0000 - val_loss: 0.6658 - val_accuracy: 0.9401\n",
      "Epoch 30/50\n",
      "55/55 [==============================] - 1s 11ms/step - loss: 9.2948e-05 - accuracy: 1.0000 - val_loss: 0.6635 - val_accuracy: 0.9401\n",
      "Epoch 31/50\n",
      "55/55 [==============================] - 1s 12ms/step - loss: 9.9352e-05 - accuracy: 1.0000 - val_loss: 0.6645 - val_accuracy: 0.9401\n",
      "Epoch 32/50\n",
      "55/55 [==============================] - 0s 8ms/step - loss: 9.2246e-05 - accuracy: 1.0000 - val_loss: 0.6720 - val_accuracy: 0.9401\n",
      "Epoch 33/50\n",
      "55/55 [==============================] - 1s 9ms/step - loss: 7.4643e-05 - accuracy: 1.0000 - val_loss: 0.6798 - val_accuracy: 0.9401\n",
      "Epoch 34/50\n",
      "55/55 [==============================] - 0s 9ms/step - loss: 7.0269e-05 - accuracy: 1.0000 - val_loss: 0.6814 - val_accuracy: 0.9401\n",
      "Epoch 35/50\n",
      "55/55 [==============================] - 0s 9ms/step - loss: 7.5949e-05 - accuracy: 1.0000 - val_loss: 0.6830 - val_accuracy: 0.9401\n",
      "Epoch 36/50\n",
      "55/55 [==============================] - 1s 11ms/step - loss: 6.4041e-05 - accuracy: 1.0000 - val_loss: 0.6905 - val_accuracy: 0.9401\n",
      "Epoch 37/50\n",
      "55/55 [==============================] - 0s 7ms/step - loss: 5.2137e-05 - accuracy: 1.0000 - val_loss: 0.6913 - val_accuracy: 0.9401\n",
      "Epoch 38/50\n",
      "55/55 [==============================] - 1s 10ms/step - loss: 5.5987e-05 - accuracy: 1.0000 - val_loss: 0.6948 - val_accuracy: 0.9401\n",
      "Epoch 39/50\n",
      "55/55 [==============================] - 0s 8ms/step - loss: 6.1544e-05 - accuracy: 1.0000 - val_loss: 0.6968 - val_accuracy: 0.9401\n",
      "Epoch 40/50\n",
      "55/55 [==============================] - 0s 8ms/step - loss: 5.1479e-05 - accuracy: 1.0000 - val_loss: 0.7009 - val_accuracy: 0.9401\n",
      "Epoch 41/50\n",
      "55/55 [==============================] - 1s 11ms/step - loss: 4.6768e-05 - accuracy: 1.0000 - val_loss: 0.7021 - val_accuracy: 0.9401\n",
      "Epoch 42/50\n",
      "55/55 [==============================] - 1s 11ms/step - loss: 3.6214e-05 - accuracy: 1.0000 - val_loss: 0.7087 - val_accuracy: 0.9401\n",
      "Epoch 43/50\n",
      "55/55 [==============================] - 0s 9ms/step - loss: 4.0269e-05 - accuracy: 1.0000 - val_loss: 0.7128 - val_accuracy: 0.9401\n",
      "Epoch 44/50\n",
      "55/55 [==============================] - 1s 10ms/step - loss: 4.4667e-05 - accuracy: 1.0000 - val_loss: 0.7147 - val_accuracy: 0.9401\n",
      "Epoch 45/50\n",
      "55/55 [==============================] - 1s 9ms/step - loss: 2.6791e-05 - accuracy: 1.0000 - val_loss: 0.7183 - val_accuracy: 0.9401\n",
      "Epoch 46/50\n",
      "55/55 [==============================] - 1s 10ms/step - loss: 2.8792e-05 - accuracy: 1.0000 - val_loss: 0.7231 - val_accuracy: 0.9401\n",
      "Epoch 47/50\n",
      "55/55 [==============================] - 0s 9ms/step - loss: 2.7945e-05 - accuracy: 1.0000 - val_loss: 0.7226 - val_accuracy: 0.9401\n",
      "Epoch 48/50\n",
      "55/55 [==============================] - 0s 9ms/step - loss: 3.1319e-05 - accuracy: 1.0000 - val_loss: 0.7233 - val_accuracy: 0.9401\n",
      "Epoch 49/50\n",
      "55/55 [==============================] - 1s 10ms/step - loss: 2.2575e-05 - accuracy: 1.0000 - val_loss: 0.7273 - val_accuracy: 0.9401\n",
      "Epoch 50/50\n",
      "55/55 [==============================] - 0s 9ms/step - loss: 2.6707e-05 - accuracy: 1.0000 - val_loss: 0.7304 - val_accuracy: 0.9401\n"
     ]
    },
    {
     "data": {
      "text/plain": [
       "<keras.src.callbacks.History at 0x7fe6c7f21390>"
      ]
     },
     "execution_count": 29,
     "metadata": {},
     "output_type": "execute_result"
    }
   ],
   "source": [
    "# Build the model with the optimal hyperparameters but with matching input units\n",
    "better_hps = {\n",
    "    \"units1\": 384,\n",
    "    \"dropout1\": 0.0,\n",
    "    \"units2\": 224,\n",
    "    \"dropout2\": 0.4,\n",
    "    \"learning_rate\": 0.001,\n",
    "}\n",
    "better_model = tuner.hypermodel.build(best_hps)\n",
    "better_model.fit(X_train, y_train, epochs=50, validation_split=0.2)"
   ]
  },
  {
   "cell_type": "code",
   "execution_count": null,
   "id": "4cafc57c-ba9e-4007-93ee-f84a20c82643",
   "metadata": {},
   "outputs": [],
   "source": []
  }
 ],
 "metadata": {
  "kernelspec": {
   "display_name": "Python 3 (ipykernel)",
   "language": "python",
   "name": "python3"
  },
  "language_info": {
   "codemirror_mode": {
    "name": "ipython",
    "version": 3
   },
   "file_extension": ".py",
   "mimetype": "text/x-python",
   "name": "python",
   "nbconvert_exporter": "python",
   "pygments_lexer": "ipython3",
   "version": "3.11.8"
  },
  "widgets": {
   "application/vnd.jupyter.widget-state+json": {
    "state": {},
    "version_major": 2,
    "version_minor": 0
   }
  }
 },
 "nbformat": 4,
 "nbformat_minor": 5
}
