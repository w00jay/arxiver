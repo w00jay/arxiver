{
 "cells": [
  {
   "cell_type": "code",
   "execution_count": 3,
   "id": "4fc41329-a02d-4d59-9c49-02cb81b436c4",
   "metadata": {},
   "outputs": [],
   "source": [
    "import json\n",
    "import sqlite3\n",
    "\n",
    "import chromadb\n",
    "import numpy as np\n",
    "from chromadb.utils import embedding_functions\n",
    "from sklearn.metrics import classification_report\n",
    "from sklearn.model_selection import train_test_split\n",
    "from tensorflow.keras.layers import Dense, Dropout\n",
    "from tensorflow.keras.models import Sequential"
   ]
  },
  {
   "cell_type": "code",
   "execution_count": 4,
   "id": "12d5a1f3-f51f-4fa0-9389-7347d112400e",
   "metadata": {},
   "outputs": [],
   "source": [
    "TRAIN_CUTOFF = 2711  # 2424 2155 1880 1572 1016 817 502 260"
   ]
  },
  {
   "cell_type": "code",
   "execution_count": 6,
   "id": "ec93842d-1664-4794-bd1b-3f9e7645a332",
   "metadata": {},
   "outputs": [],
   "source": [
    "# db = \"../data/arxiv_papers.db\"\n",
    "# last_interested = find_last_interested_entry(db)\n",
    "# print(json.dumps(last_interested, indent=4))"
   ]
  },
  {
   "cell_type": "code",
   "execution_count": 7,
   "id": "5739d1dd-5d42-409a-ae1a-f7d4b23b0caa",
   "metadata": {},
   "outputs": [],
   "source": [
    "def get_data(database_path):\n",
    "    # Create a database connection\n",
    "    conn = sqlite3.connect(database_path)\n",
    "    cursor = conn.cursor()\n",
    "    cursor.row_factory = sqlite3.Row\n",
    "\n",
    "    # SQL query to find the last occurrence of \"interested\" = 1\n",
    "    query = \"\"\"\n",
    "    SELECT paper_id, concise_summary, interested FROM papers \n",
    "    ORDER BY paper_id ASC \n",
    "    LIMIT 2711;\n",
    "    \"\"\"\n",
    "\n",
    "    try:\n",
    "        cursor.execute(query)\n",
    "        articles = cursor.fetchall()\n",
    "        if articles:\n",
    "            print(f\"Got {len(articles)}.\")\n",
    "            return articles\n",
    "        else:\n",
    "            print(\"No interested entries found.\")\n",
    "            return nil\n",
    "    except sqlite3.Error as e:\n",
    "        print(\"Database error:\", e)\n",
    "    finally:\n",
    "        conn.close()"
   ]
  },
  {
   "cell_type": "code",
   "execution_count": 8,
   "id": "f9e35090-8a3a-4c19-ae42-43937c976d23",
   "metadata": {},
   "outputs": [],
   "source": [
    "def get_embedding(paper_id, vdb_path=\"../data/arxiv_embeddings.chroma\"):\n",
    "    vdb = chromadb.PersistentClient(vdb_path)\n",
    "    sentence_transformer_ef = embedding_functions.SentenceTransformerEmbeddingFunction(\n",
    "        model_name=\"all-MiniLM-L6-v2\"\n",
    "    )\n",
    "    embedding_func = sentence_transformer_ef\n",
    "    vectors = vdb.get_or_create_collection(\n",
    "        name=\"arxiver\", embedding_function=embedding_func\n",
    "    )\n",
    "\n",
    "    res = vectors.get(ids=[paper_id], limit=1, include=[\"embeddings\"])\n",
    "    # print(res)\n",
    "    # print(f'{res[\"ids\"][0]} {res[\"embeddings\"][0]}')\n",
    "    return res[\"embeddings\"][0]"
   ]
  },
  {
   "cell_type": "code",
   "execution_count": 9,
   "id": "cf96d30d-5c9b-4759-aea3-7fc13cc6c9c5",
   "metadata": {},
   "outputs": [
    {
     "name": "stdout",
     "output_type": "stream",
     "text": [
      "Got 2711.\n"
     ]
    },
    {
     "name": "stderr",
     "output_type": "stream",
     "text": [
      "Add of existing embedding ID: http://arxiv.org/abs/1706.03762v7\n"
     ]
    },
    {
     "name": "stdout",
     "output_type": "stream",
     "text": [
      "(2711, 384) (2711,)\n"
     ]
    }
   ],
   "source": [
    "articles = get_data(db)\n",
    "X_article = []\n",
    "y_article = []\n",
    "for article in articles:\n",
    "    # print(\n",
    "    #     f'{article[\"paper_id\"]}, {article[\"interested\"]}\\n{article[\"concise_summary\"]}'\n",
    "    # )\n",
    "    X_article.append(get_embedding(article[\"paper_id\"]))\n",
    "    y_article.append(article[\"interested\"])\n",
    "\n",
    "# print(X_article[:3])\n",
    "# print(y_article[:3])\n",
    "\n",
    "X = np.array(X_article)\n",
    "y = np.array(y_article)\n",
    "\n",
    "# print(X[:1])\n",
    "# print(y[:1])\n",
    "print(X.shape, y.shape)"
   ]
  },
  {
   "cell_type": "code",
   "execution_count": 10,
   "id": "dcd69a45-b2b3-46f3-b8fc-955fe3962318",
   "metadata": {},
   "outputs": [
    {
     "name": "stdout",
     "output_type": "stream",
     "text": [
      "384\n"
     ]
    }
   ],
   "source": [
    "print(len(X[0]))"
   ]
  },
  {
   "cell_type": "code",
   "execution_count": 11,
   "id": "c3a65f3f-fc7c-4029-9a4a-d71cad5ac806",
   "metadata": {},
   "outputs": [],
   "source": [
    "# Train-test split\n",
    "X_train, X_test, y_train, y_test = train_test_split(\n",
    "    X, y, test_size=0.2, random_state=42\n",
    ")"
   ]
  },
  {
   "cell_type": "code",
   "execution_count": 12,
   "id": "54d16fcb-dfa9-464e-b5b1-b080a0b52ec0",
   "metadata": {},
   "outputs": [],
   "source": [
    "def build_model(hp):\n",
    "    model = Sequential()\n",
    "    model.add(\n",
    "        Dense(\n",
    "            units=hp.Int(\"units1\", min_value=32, max_value=512, step=32),\n",
    "            activation=\"relu\",\n",
    "            input_shape=(X_train.shape[1],),\n",
    "        )\n",
    "    )\n",
    "    model.add(\n",
    "        Dropout(rate=hp.Float(\"dropout1\", min_value=0.0, max_value=0.5, step=0.1))\n",
    "    )\n",
    "    model.add(\n",
    "        Dense(\n",
    "            units=hp.Int(\"units2\", min_value=32, max_value=256, step=32),\n",
    "            activation=\"relu\",\n",
    "        )\n",
    "    )\n",
    "    model.add(\n",
    "        Dropout(rate=hp.Float(\"dropout2\", min_value=0.0, max_value=0.5, step=0.1))\n",
    "    )\n",
    "    model.add(Dense(1, activation=\"sigmoid\"))\n",
    "\n",
    "    # Compile model\n",
    "    hp_learning_rate = hp.Choice(\"learning_rate\", values=[1e-2, 1e-3, 1e-4])\n",
    "    model.compile(\n",
    "        optimizer=keras.optimizers.Adam(learning_rate=hp_learning_rate),\n",
    "        loss=\"binary_crossentropy\",\n",
    "        metrics=[\"accuracy\"],\n",
    "    )\n",
    "    return model"
   ]
  },
  {
   "cell_type": "code",
   "execution_count": 13,
   "id": "f08cb665-5166-4406-b0d2-cceadbbaed5c",
   "metadata": {},
   "outputs": [],
   "source": [
    "tuner = RandomSearch(\n",
    "    build_model,\n",
    "    objective=\"val_accuracy\",\n",
    "    max_trials=20,\n",
    "    executions_per_trial=2,\n",
    "    directory=\"my_dir\",\n",
    "    project_name=\"arxiv_article_embeddings\",\n",
    ")"
   ]
  },
  {
   "cell_type": "code",
   "execution_count": 14,
   "id": "35825627-9be9-4a99-b052-d95b4c90c272",
   "metadata": {},
   "outputs": [
    {
     "name": "stdout",
     "output_type": "stream",
     "text": [
      "Trial 20 Complete [00h 00m 17s]\n",
      "val_accuracy: 0.9447004795074463\n",
      "\n",
      "Best val_accuracy So Far: 0.950460821390152\n",
      "Total elapsed time: 00h 09m 17s\n"
     ]
    }
   ],
   "source": [
    "from tensorflow.keras.callbacks import EarlyStopping\n",
    "\n",
    "stop_early = EarlyStopping(monitor=\"val_loss\", patience=5)\n",
    "\n",
    "tuner.search(X_train, y_train, epochs=50, validation_split=0.2, callbacks=[stop_early])\n",
    "\n",
    "# Get the optimal hyperparameters\n",
    "best_hps = tuner.get_best_hyperparameters(num_trials=1)[0]"
   ]
  },
  {
   "cell_type": "code",
   "execution_count": 15,
   "id": "a2ac7c3e-ecd9-46a5-8c39-c3e212a0aef9",
   "metadata": {},
   "outputs": [
    {
     "name": "stdout",
     "output_type": "stream",
     "text": [
      "Epoch 1/50\n",
      "55/55 [==============================] - 4s 19ms/step - loss: 0.2584 - accuracy: 0.9446 - val_loss: 0.2051 - val_accuracy: 0.9447\n",
      "Epoch 2/50\n",
      "55/55 [==============================] - 1s 19ms/step - loss: 0.1625 - accuracy: 0.9493 - val_loss: 0.2067 - val_accuracy: 0.9447\n",
      "Epoch 3/50\n",
      "55/55 [==============================] - 1s 24ms/step - loss: 0.1400 - accuracy: 0.9493 - val_loss: 0.2229 - val_accuracy: 0.9447\n",
      "Epoch 4/50\n",
      "55/55 [==============================] - 1s 17ms/step - loss: 0.1163 - accuracy: 0.9493 - val_loss: 0.2328 - val_accuracy: 0.9447\n",
      "Epoch 5/50\n",
      "55/55 [==============================] - 2s 34ms/step - loss: 0.0932 - accuracy: 0.9493 - val_loss: 0.2718 - val_accuracy: 0.9447\n",
      "Epoch 6/50\n",
      "55/55 [==============================] - 1s 19ms/step - loss: 0.0695 - accuracy: 0.9608 - val_loss: 0.2992 - val_accuracy: 0.9447\n",
      "Epoch 7/50\n",
      "55/55 [==============================] - 1s 13ms/step - loss: 0.0451 - accuracy: 0.9850 - val_loss: 0.3396 - val_accuracy: 0.9401\n",
      "Epoch 8/50\n",
      "55/55 [==============================] - 1s 10ms/step - loss: 0.0259 - accuracy: 0.9954 - val_loss: 0.4319 - val_accuracy: 0.9470\n",
      "Epoch 9/50\n",
      "55/55 [==============================] - 1s 11ms/step - loss: 0.0108 - accuracy: 0.9994 - val_loss: 0.4642 - val_accuracy: 0.9424\n",
      "Epoch 10/50\n",
      "55/55 [==============================] - 0s 8ms/step - loss: 0.0050 - accuracy: 0.9994 - val_loss: 0.5047 - val_accuracy: 0.9424\n",
      "Epoch 11/50\n",
      "55/55 [==============================] - 1s 10ms/step - loss: 0.0030 - accuracy: 0.9994 - val_loss: 0.5209 - val_accuracy: 0.9424\n",
      "Epoch 12/50\n",
      "55/55 [==============================] - 1s 10ms/step - loss: 0.0029 - accuracy: 0.9988 - val_loss: 0.5193 - val_accuracy: 0.9286\n",
      "Epoch 13/50\n",
      "55/55 [==============================] - 1s 11ms/step - loss: 0.0025 - accuracy: 0.9994 - val_loss: 0.5854 - val_accuracy: 0.9424\n",
      "Epoch 14/50\n",
      "55/55 [==============================] - 1s 10ms/step - loss: 0.0015 - accuracy: 0.9994 - val_loss: 0.5908 - val_accuracy: 0.9447\n",
      "Epoch 15/50\n",
      "55/55 [==============================] - 1s 10ms/step - loss: 7.3518e-04 - accuracy: 1.0000 - val_loss: 0.5901 - val_accuracy: 0.9424\n",
      "Epoch 16/50\n",
      "55/55 [==============================] - 0s 9ms/step - loss: 5.0998e-04 - accuracy: 1.0000 - val_loss: 0.6032 - val_accuracy: 0.9424\n",
      "Epoch 17/50\n",
      "55/55 [==============================] - 1s 13ms/step - loss: 3.9342e-04 - accuracy: 1.0000 - val_loss: 0.6144 - val_accuracy: 0.9424\n",
      "Epoch 18/50\n",
      "55/55 [==============================] - 1s 10ms/step - loss: 2.7542e-04 - accuracy: 1.0000 - val_loss: 0.6213 - val_accuracy: 0.9424\n",
      "Epoch 19/50\n",
      "55/55 [==============================] - 0s 9ms/step - loss: 2.5426e-04 - accuracy: 1.0000 - val_loss: 0.6349 - val_accuracy: 0.9424\n",
      "Epoch 20/50\n",
      "55/55 [==============================] - 0s 9ms/step - loss: 2.4562e-04 - accuracy: 1.0000 - val_loss: 0.6460 - val_accuracy: 0.9424\n",
      "Epoch 21/50\n",
      "55/55 [==============================] - 0s 9ms/step - loss: 1.8090e-04 - accuracy: 1.0000 - val_loss: 0.6449 - val_accuracy: 0.9424\n",
      "Epoch 22/50\n",
      "55/55 [==============================] - 1s 9ms/step - loss: 1.8076e-04 - accuracy: 1.0000 - val_loss: 0.6510 - val_accuracy: 0.9424\n",
      "Epoch 23/50\n",
      "55/55 [==============================] - 1s 10ms/step - loss: 1.8790e-04 - accuracy: 1.0000 - val_loss: 0.6619 - val_accuracy: 0.9424\n",
      "Epoch 24/50\n",
      "55/55 [==============================] - 1s 9ms/step - loss: 1.5386e-04 - accuracy: 1.0000 - val_loss: 0.6666 - val_accuracy: 0.9424\n",
      "Epoch 25/50\n",
      "55/55 [==============================] - 1s 9ms/step - loss: 1.3138e-04 - accuracy: 1.0000 - val_loss: 0.6732 - val_accuracy: 0.9424\n",
      "Epoch 26/50\n",
      "55/55 [==============================] - 1s 10ms/step - loss: 1.2673e-04 - accuracy: 1.0000 - val_loss: 0.6742 - val_accuracy: 0.9424\n",
      "Epoch 27/50\n",
      "55/55 [==============================] - 1s 11ms/step - loss: 8.4964e-05 - accuracy: 1.0000 - val_loss: 0.6779 - val_accuracy: 0.9424\n",
      "Epoch 28/50\n",
      "55/55 [==============================] - 1s 17ms/step - loss: 7.9943e-05 - accuracy: 1.0000 - val_loss: 0.6833 - val_accuracy: 0.9424\n",
      "Epoch 29/50\n",
      "55/55 [==============================] - 1s 12ms/step - loss: 9.1432e-05 - accuracy: 1.0000 - val_loss: 0.6875 - val_accuracy: 0.9424\n",
      "Epoch 30/50\n",
      "55/55 [==============================] - 1s 11ms/step - loss: 7.8551e-05 - accuracy: 1.0000 - val_loss: 0.6903 - val_accuracy: 0.9424\n",
      "Epoch 31/50\n",
      "55/55 [==============================] - 1s 10ms/step - loss: 6.3692e-05 - accuracy: 1.0000 - val_loss: 0.6999 - val_accuracy: 0.9424\n",
      "Epoch 32/50\n",
      "55/55 [==============================] - 1s 11ms/step - loss: 6.7961e-05 - accuracy: 1.0000 - val_loss: 0.7017 - val_accuracy: 0.9424\n",
      "Epoch 33/50\n",
      "55/55 [==============================] - 1s 10ms/step - loss: 6.8620e-05 - accuracy: 1.0000 - val_loss: 0.7052 - val_accuracy: 0.9424\n",
      "Epoch 34/50\n",
      "55/55 [==============================] - 0s 9ms/step - loss: 6.4952e-05 - accuracy: 1.0000 - val_loss: 0.7120 - val_accuracy: 0.9424\n",
      "Epoch 35/50\n",
      "55/55 [==============================] - 1s 10ms/step - loss: 5.8443e-05 - accuracy: 1.0000 - val_loss: 0.7171 - val_accuracy: 0.9424\n",
      "Epoch 36/50\n",
      "55/55 [==============================] - 0s 9ms/step - loss: 4.9004e-05 - accuracy: 1.0000 - val_loss: 0.7213 - val_accuracy: 0.9424\n",
      "Epoch 37/50\n",
      "55/55 [==============================] - 1s 9ms/step - loss: 4.4333e-05 - accuracy: 1.0000 - val_loss: 0.7231 - val_accuracy: 0.9424\n",
      "Epoch 38/50\n",
      "55/55 [==============================] - 0s 9ms/step - loss: 4.7663e-05 - accuracy: 1.0000 - val_loss: 0.7227 - val_accuracy: 0.9424\n",
      "Epoch 39/50\n",
      "55/55 [==============================] - 1s 11ms/step - loss: 3.9342e-05 - accuracy: 1.0000 - val_loss: 0.7271 - val_accuracy: 0.9424\n",
      "Epoch 40/50\n",
      "55/55 [==============================] - 1s 9ms/step - loss: 4.2032e-05 - accuracy: 1.0000 - val_loss: 0.7342 - val_accuracy: 0.9424\n",
      "Epoch 41/50\n",
      "55/55 [==============================] - 1s 10ms/step - loss: 3.2116e-05 - accuracy: 1.0000 - val_loss: 0.7352 - val_accuracy: 0.9424\n",
      "Epoch 42/50\n",
      "55/55 [==============================] - 0s 9ms/step - loss: 3.1616e-05 - accuracy: 1.0000 - val_loss: 0.7411 - val_accuracy: 0.9424\n",
      "Epoch 43/50\n",
      "55/55 [==============================] - 0s 9ms/step - loss: 3.6786e-05 - accuracy: 1.0000 - val_loss: 0.7344 - val_accuracy: 0.9424\n",
      "Epoch 44/50\n",
      "55/55 [==============================] - 1s 11ms/step - loss: 3.3278e-05 - accuracy: 1.0000 - val_loss: 0.7423 - val_accuracy: 0.9424\n",
      "Epoch 45/50\n",
      "55/55 [==============================] - 1s 11ms/step - loss: 3.3988e-05 - accuracy: 1.0000 - val_loss: 0.7443 - val_accuracy: 0.9424\n",
      "Epoch 46/50\n",
      "55/55 [==============================] - 1s 11ms/step - loss: 2.4869e-05 - accuracy: 1.0000 - val_loss: 0.7514 - val_accuracy: 0.9424\n",
      "Epoch 47/50\n",
      "55/55 [==============================] - 1s 18ms/step - loss: 2.7939e-05 - accuracy: 1.0000 - val_loss: 0.7524 - val_accuracy: 0.9424\n",
      "Epoch 48/50\n",
      "55/55 [==============================] - 1s 19ms/step - loss: 2.6328e-05 - accuracy: 1.0000 - val_loss: 0.7523 - val_accuracy: 0.9424\n",
      "Epoch 49/50\n",
      "55/55 [==============================] - 1s 24ms/step - loss: 2.3928e-05 - accuracy: 1.0000 - val_loss: 0.7578 - val_accuracy: 0.9424\n",
      "Epoch 50/50\n",
      "55/55 [==============================] - 1s 15ms/step - loss: 2.1762e-05 - accuracy: 1.0000 - val_loss: 0.7607 - val_accuracy: 0.9424\n"
     ]
    },
    {
     "data": {
      "text/plain": [
       "<keras.src.callbacks.History at 0x7fe6dd439090>"
      ]
     },
     "execution_count": 15,
     "metadata": {},
     "output_type": "execute_result"
    }
   ],
   "source": [
    "# Build the model with the optimal hyperparameters and train it on the data\n",
    "model = tuner.hypermodel.build(best_hps)\n",
    "model.fit(X_train, y_train, epochs=50, validation_split=0.2)"
   ]
  },
  {
   "cell_type": "code",
   "execution_count": 17,
   "id": "1a3e2a09-7073-46b1-8d1a-3d659a9a3ec6",
   "metadata": {},
   "outputs": [
    {
     "data": {
      "text/plain": [
       "{'units1': 320,\n",
       " 'dropout1': 0.0,\n",
       " 'units2': 224,\n",
       " 'dropout2': 0.4,\n",
       " 'learning_rate': 0.001}"
      ]
     },
     "execution_count": 17,
     "metadata": {},
     "output_type": "execute_result"
    }
   ],
   "source": [
    "best_hps.values"
   ]
  },
  {
   "cell_type": "code",
   "execution_count": null,
   "id": "f12ac4c5-c873-4a01-8c9f-6da191a98ad8",
   "metadata": {},
   "outputs": [],
   "source": []
  }
 ],
 "metadata": {
  "kernelspec": {
   "display_name": "Python 3 (ipykernel)",
   "language": "python",
   "name": "python3"
  },
  "language_info": {
   "codemirror_mode": {
    "name": "ipython",
    "version": 3
   },
   "file_extension": ".py",
   "mimetype": "text/x-python",
   "name": "python",
   "nbconvert_exporter": "python",
   "pygments_lexer": "ipython3",
   "version": "3.11.8"
  },
  "widgets": {
   "application/vnd.jupyter.widget-state+json": {
    "state": {},
    "version_major": 2,
    "version_minor": 0
   }
  }
 },
 "nbformat": 4,
 "nbformat_minor": 5
}
