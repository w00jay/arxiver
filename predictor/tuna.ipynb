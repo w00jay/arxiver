{
 "cells": [
  {
   "cell_type": "code",
   "execution_count": 36,
   "id": "4fc41329-a02d-4d59-9c49-02cb81b436c4",
   "metadata": {},
   "outputs": [],
   "source": [
    "import json\n",
    "import sqlite3\n",
    "\n",
    "import chromadb\n",
    "import keras\n",
    "import numpy as np\n",
    "from chromadb.utils import embedding_functions\n",
    "from keras_tuner import RandomSearch\n",
    "from sklearn.metrics import classification_report\n",
    "from sklearn.model_selection import train_test_split\n",
    "from tensorflow.keras.layers import Dense, Dropout\n",
    "from tensorflow.keras.models import Sequential"
   ]
  },
  {
   "cell_type": "code",
   "execution_count": 37,
   "id": "12d5a1f3-f51f-4fa0-9389-7347d112400e",
   "metadata": {},
   "outputs": [],
   "source": [
    "TRAIN_CUTOFF = 3003  # 2711 2424 2155 1880 1572 1016 817 502 260"
   ]
  },
  {
   "cell_type": "code",
   "execution_count": 38,
   "id": "ec93842d-1664-4794-bd1b-3f9e7645a332",
   "metadata": {},
   "outputs": [],
   "source": [
    "db = \"../data/arxiv_papers.db\"\n",
    "# last_interested = find_last_interested_entry(db)\n",
    "# print(json.dumps(last_interested, indent=4))"
   ]
  },
  {
   "cell_type": "code",
   "execution_count": 39,
   "id": "5739d1dd-5d42-409a-ae1a-f7d4b23b0caa",
   "metadata": {},
   "outputs": [],
   "source": [
    "def get_data(database_path):\n",
    "    # Create a database connection\n",
    "    conn = sqlite3.connect(database_path)\n",
    "    cursor = conn.cursor()\n",
    "    cursor.row_factory = sqlite3.Row\n",
    "\n",
    "    # SQL query to find the last occurrence of \"interested\" = 1\n",
    "    query = f\"\"\"\n",
    "    SELECT paper_id, concise_summary, interested FROM papers \n",
    "    ORDER BY paper_id ASC \n",
    "    LIMIT {TRAIN_CUTOFF};\n",
    "    \"\"\"\n",
    "\n",
    "    try:\n",
    "        cursor.execute(query)\n",
    "        articles = cursor.fetchall()\n",
    "        if articles:\n",
    "            print(f\"Got {len(articles)}.\")\n",
    "            return articles\n",
    "        else:\n",
    "            print(\"No interested entries found.\")\n",
    "            return nil\n",
    "    except sqlite3.Error as e:\n",
    "        print(\"Database error:\", e)\n",
    "    finally:\n",
    "        conn.close()"
   ]
  },
  {
   "cell_type": "code",
   "execution_count": 40,
   "id": "f9e35090-8a3a-4c19-ae42-43937c976d23",
   "metadata": {},
   "outputs": [],
   "source": [
    "def get_embedding(paper_id, vdb_path=\"../data/arxiv_embeddings.chroma\"):\n",
    "    vdb = chromadb.PersistentClient(vdb_path)\n",
    "    sentence_transformer_ef = embedding_functions.SentenceTransformerEmbeddingFunction(\n",
    "        model_name=\"all-MiniLM-L6-v2\"\n",
    "    )\n",
    "    embedding_func = sentence_transformer_ef\n",
    "    vectors = vdb.get_or_create_collection(\n",
    "        name=\"arxiver\", embedding_function=embedding_func\n",
    "    )\n",
    "\n",
    "    res = vectors.get(ids=[paper_id], limit=1, include=[\"embeddings\"])\n",
    "    # print(res)\n",
    "    # print(f'{res[\"ids\"][0]} {res[\"embeddings\"][0]}')\n",
    "    return res[\"embeddings\"][0]"
   ]
  },
  {
   "cell_type": "code",
   "execution_count": 41,
   "id": "cf96d30d-5c9b-4759-aea3-7fc13cc6c9c5",
   "metadata": {},
   "outputs": [
    {
     "name": "stdout",
     "output_type": "stream",
     "text": [
      "Got 3003.\n",
      "(3003, 384) (3003,)\n"
     ]
    }
   ],
   "source": [
    "articles = get_data(db)\n",
    "X_article = []\n",
    "y_article = []\n",
    "for article in articles:\n",
    "    # print(\n",
    "    #     f'{article[\"paper_id\"]}, {article[\"interested\"]}\\n{article[\"concise_summary\"]}'\n",
    "    # )\n",
    "    X_article.append(get_embedding(article[\"paper_id\"]))\n",
    "    y_article.append(article[\"interested\"])\n",
    "\n",
    "# print(X_article[:3])\n",
    "# print(y_article[:3])\n",
    "\n",
    "X = np.array(X_article)\n",
    "y = np.array(y_article)\n",
    "\n",
    "# print(X[:1])\n",
    "# print(y[:1])\n",
    "print(X.shape, y.shape)"
   ]
  },
  {
   "cell_type": "code",
   "execution_count": 42,
   "id": "dcd69a45-b2b3-46f3-b8fc-955fe3962318",
   "metadata": {},
   "outputs": [
    {
     "name": "stdout",
     "output_type": "stream",
     "text": [
      "384\n"
     ]
    }
   ],
   "source": [
    "print(len(X[0]))"
   ]
  },
  {
   "cell_type": "code",
   "execution_count": 43,
   "id": "c3a65f3f-fc7c-4029-9a4a-d71cad5ac806",
   "metadata": {},
   "outputs": [],
   "source": [
    "# Train-test split\n",
    "X_train, X_test, y_train, y_test = train_test_split(\n",
    "    X, y, test_size=0.2, random_state=42\n",
    ")"
   ]
  },
  {
   "cell_type": "code",
   "execution_count": 44,
   "id": "54d16fcb-dfa9-464e-b5b1-b080a0b52ec0",
   "metadata": {},
   "outputs": [],
   "source": [
    "def build_model(hp):\n",
    "    model = Sequential()\n",
    "    model.add(\n",
    "        Dense(\n",
    "            units=hp.Int(\"units1\", min_value=32, max_value=512, step=32),\n",
    "            activation=\"relu\",\n",
    "            input_shape=(X_train.shape[1],),\n",
    "        )\n",
    "    )\n",
    "    model.add(\n",
    "        Dropout(rate=hp.Float(\"dropout1\", min_value=0.0, max_value=0.5, step=0.1))\n",
    "    )\n",
    "    model.add(\n",
    "        Dense(\n",
    "            units=hp.Int(\"units2\", min_value=32, max_value=256, step=32),\n",
    "            activation=\"relu\",\n",
    "        )\n",
    "    )\n",
    "    model.add(\n",
    "        Dropout(rate=hp.Float(\"dropout2\", min_value=0.0, max_value=0.5, step=0.1))\n",
    "    )\n",
    "    model.add(Dense(1, activation=\"sigmoid\"))\n",
    "\n",
    "    # Compile model\n",
    "    hp_learning_rate = hp.Choice(\"learning_rate\", values=[1e-2, 1e-3, 1e-4])\n",
    "    model.compile(\n",
    "        optimizer=keras.optimizers.Adam(learning_rate=hp_learning_rate),\n",
    "        loss=\"binary_crossentropy\",\n",
    "        metrics=[\"accuracy\"],\n",
    "    )\n",
    "    return model"
   ]
  },
  {
   "cell_type": "code",
   "execution_count": 45,
   "id": "f08cb665-5166-4406-b0d2-cceadbbaed5c",
   "metadata": {},
   "outputs": [
    {
     "name": "stdout",
     "output_type": "stream",
     "text": [
      "Reloading Tuner from my_dir/arxiv_article_embeddings/tuner0.json\n"
     ]
    }
   ],
   "source": [
    "tuner = RandomSearch(\n",
    "    build_model,\n",
    "    objective=\"val_accuracy\",\n",
    "    max_trials=80,\n",
    "    executions_per_trial=2,\n",
    "    directory=\"my_dir\",\n",
    "    project_name=\"arxiv_article_embeddings\",\n",
    ")"
   ]
  },
  {
   "cell_type": "code",
   "execution_count": 46,
   "id": "35825627-9be9-4a99-b052-d95b4c90c272",
   "metadata": {},
   "outputs": [],
   "source": [
    "from tensorflow.keras.callbacks import EarlyStopping\n",
    "\n",
    "stop_early = EarlyStopping(monitor=\"val_loss\", patience=5)\n",
    "\n",
    "tuner.search(X_train, y_train, epochs=50, validation_split=0.2, callbacks=[stop_early])\n",
    "\n",
    "# Get the optimal hyperparameters\n",
    "best_hps = tuner.get_best_hyperparameters(num_trials=1)[0]"
   ]
  },
  {
   "cell_type": "code",
   "execution_count": 47,
   "id": "a2ac7c3e-ecd9-46a5-8c39-c3e212a0aef9",
   "metadata": {
    "scrolled": true
   },
   "outputs": [
    {
     "name": "stdout",
     "output_type": "stream",
     "text": [
      "Epoch 1/50\n",
      "61/61 [==============================] - 1s 4ms/step - loss: 0.2530 - accuracy: 0.9485 - val_loss: 0.1820 - val_accuracy: 0.9480\n",
      "Epoch 2/50\n",
      "61/61 [==============================] - 0s 3ms/step - loss: 0.1673 - accuracy: 0.9500 - val_loss: 0.1870 - val_accuracy: 0.9480\n",
      "Epoch 3/50\n",
      "61/61 [==============================] - 0s 3ms/step - loss: 0.1453 - accuracy: 0.9500 - val_loss: 0.2004 - val_accuracy: 0.9480\n",
      "Epoch 4/50\n",
      "61/61 [==============================] - 0s 3ms/step - loss: 0.1232 - accuracy: 0.9500 - val_loss: 0.2068 - val_accuracy: 0.9480\n",
      "Epoch 5/50\n",
      "61/61 [==============================] - 0s 3ms/step - loss: 0.1033 - accuracy: 0.9500 - val_loss: 0.2352 - val_accuracy: 0.9480\n",
      "Epoch 6/50\n",
      "61/61 [==============================] - 0s 3ms/step - loss: 0.0810 - accuracy: 0.9526 - val_loss: 0.2562 - val_accuracy: 0.9459\n",
      "Epoch 7/50\n",
      "61/61 [==============================] - 0s 3ms/step - loss: 0.0592 - accuracy: 0.9724 - val_loss: 0.3234 - val_accuracy: 0.9397\n",
      "Epoch 8/50\n",
      "61/61 [==============================] - 0s 3ms/step - loss: 0.0363 - accuracy: 0.9922 - val_loss: 0.4124 - val_accuracy: 0.9439\n",
      "Epoch 9/50\n",
      "61/61 [==============================] - 0s 3ms/step - loss: 0.0188 - accuracy: 0.9974 - val_loss: 0.4029 - val_accuracy: 0.9293\n",
      "Epoch 10/50\n",
      "61/61 [==============================] - 0s 2ms/step - loss: 0.0101 - accuracy: 0.9979 - val_loss: 0.4372 - val_accuracy: 0.9252\n",
      "Epoch 11/50\n",
      "61/61 [==============================] - 0s 2ms/step - loss: 0.0071 - accuracy: 0.9990 - val_loss: 0.4817 - val_accuracy: 0.9376\n",
      "Epoch 12/50\n",
      "61/61 [==============================] - 0s 3ms/step - loss: 0.0048 - accuracy: 0.9984 - val_loss: 0.4749 - val_accuracy: 0.9293\n",
      "Epoch 13/50\n",
      "61/61 [==============================] - 0s 2ms/step - loss: 0.0102 - accuracy: 0.9979 - val_loss: 0.5224 - val_accuracy: 0.9293\n",
      "Epoch 14/50\n",
      "61/61 [==============================] - 0s 2ms/step - loss: 0.0090 - accuracy: 0.9990 - val_loss: 0.6006 - val_accuracy: 0.9480\n",
      "Epoch 15/50\n",
      "61/61 [==============================] - 0s 3ms/step - loss: 0.0101 - accuracy: 0.9969 - val_loss: 0.5569 - val_accuracy: 0.9459\n",
      "Epoch 16/50\n",
      "61/61 [==============================] - 0s 3ms/step - loss: 0.0064 - accuracy: 0.9974 - val_loss: 0.5347 - val_accuracy: 0.9293\n",
      "Epoch 17/50\n",
      "61/61 [==============================] - 0s 3ms/step - loss: 0.0047 - accuracy: 0.9995 - val_loss: 0.5536 - val_accuracy: 0.9418\n",
      "Epoch 18/50\n",
      "61/61 [==============================] - 0s 3ms/step - loss: 0.0033 - accuracy: 0.9995 - val_loss: 0.5727 - val_accuracy: 0.9459\n",
      "Epoch 19/50\n",
      "61/61 [==============================] - 0s 3ms/step - loss: 0.0035 - accuracy: 0.9995 - val_loss: 0.5455 - val_accuracy: 0.9252\n",
      "Epoch 20/50\n",
      "61/61 [==============================] - 0s 3ms/step - loss: 0.0032 - accuracy: 0.9995 - val_loss: 0.5850 - val_accuracy: 0.9418\n",
      "Epoch 21/50\n",
      "61/61 [==============================] - 0s 3ms/step - loss: 0.0010 - accuracy: 0.9995 - val_loss: 0.5661 - val_accuracy: 0.9231\n",
      "Epoch 22/50\n",
      "61/61 [==============================] - 0s 3ms/step - loss: 0.0029 - accuracy: 0.9995 - val_loss: 0.6453 - val_accuracy: 0.9501\n",
      "Epoch 23/50\n",
      "61/61 [==============================] - 0s 3ms/step - loss: 0.0039 - accuracy: 0.9995 - val_loss: 0.5725 - val_accuracy: 0.9148\n",
      "Epoch 24/50\n",
      "61/61 [==============================] - 0s 4ms/step - loss: 0.0030 - accuracy: 0.9990 - val_loss: 0.5960 - val_accuracy: 0.9335\n",
      "Epoch 25/50\n",
      "61/61 [==============================] - 0s 3ms/step - loss: 5.0149e-04 - accuracy: 1.0000 - val_loss: 0.6071 - val_accuracy: 0.9356\n",
      "Epoch 26/50\n",
      "61/61 [==============================] - 0s 3ms/step - loss: 2.6680e-04 - accuracy: 1.0000 - val_loss: 0.6164 - val_accuracy: 0.9314\n",
      "Epoch 27/50\n",
      "61/61 [==============================] - 0s 3ms/step - loss: 2.2153e-04 - accuracy: 1.0000 - val_loss: 0.6300 - val_accuracy: 0.9314\n",
      "Epoch 28/50\n",
      "61/61 [==============================] - 0s 3ms/step - loss: 1.9154e-04 - accuracy: 1.0000 - val_loss: 0.6393 - val_accuracy: 0.9314\n",
      "Epoch 29/50\n",
      "61/61 [==============================] - 0s 3ms/step - loss: 1.6736e-04 - accuracy: 1.0000 - val_loss: 0.6490 - val_accuracy: 0.9314\n",
      "Epoch 30/50\n",
      "61/61 [==============================] - 0s 3ms/step - loss: 1.4116e-04 - accuracy: 1.0000 - val_loss: 0.6576 - val_accuracy: 0.9314\n",
      "Epoch 31/50\n",
      "61/61 [==============================] - 0s 3ms/step - loss: 1.1695e-04 - accuracy: 1.0000 - val_loss: 0.6657 - val_accuracy: 0.9314\n",
      "Epoch 32/50\n",
      "61/61 [==============================] - 0s 3ms/step - loss: 1.3771e-04 - accuracy: 1.0000 - val_loss: 0.6688 - val_accuracy: 0.9314\n",
      "Epoch 33/50\n",
      "61/61 [==============================] - 0s 3ms/step - loss: 1.0270e-04 - accuracy: 1.0000 - val_loss: 0.6780 - val_accuracy: 0.9314\n",
      "Epoch 34/50\n",
      "61/61 [==============================] - 0s 3ms/step - loss: 1.1603e-04 - accuracy: 1.0000 - val_loss: 0.6877 - val_accuracy: 0.9314\n",
      "Epoch 35/50\n",
      "61/61 [==============================] - 0s 3ms/step - loss: 8.1111e-05 - accuracy: 1.0000 - val_loss: 0.6940 - val_accuracy: 0.9314\n",
      "Epoch 36/50\n",
      "61/61 [==============================] - 0s 3ms/step - loss: 7.7667e-05 - accuracy: 1.0000 - val_loss: 0.6996 - val_accuracy: 0.9314\n",
      "Epoch 37/50\n",
      "61/61 [==============================] - 0s 3ms/step - loss: 8.4591e-05 - accuracy: 1.0000 - val_loss: 0.7027 - val_accuracy: 0.9314\n",
      "Epoch 38/50\n",
      "61/61 [==============================] - 0s 3ms/step - loss: 6.0991e-05 - accuracy: 1.0000 - val_loss: 0.7077 - val_accuracy: 0.9314\n",
      "Epoch 39/50\n",
      "61/61 [==============================] - 0s 3ms/step - loss: 6.2015e-05 - accuracy: 1.0000 - val_loss: 0.7118 - val_accuracy: 0.9314\n",
      "Epoch 40/50\n",
      "61/61 [==============================] - 0s 3ms/step - loss: 6.1596e-05 - accuracy: 1.0000 - val_loss: 0.7174 - val_accuracy: 0.9314\n",
      "Epoch 41/50\n",
      "61/61 [==============================] - 0s 4ms/step - loss: 6.0707e-05 - accuracy: 1.0000 - val_loss: 0.7216 - val_accuracy: 0.9314\n",
      "Epoch 42/50\n",
      "61/61 [==============================] - 0s 3ms/step - loss: 4.9966e-05 - accuracy: 1.0000 - val_loss: 0.7277 - val_accuracy: 0.9314\n",
      "Epoch 43/50\n",
      "61/61 [==============================] - 0s 3ms/step - loss: 4.9346e-05 - accuracy: 1.0000 - val_loss: 0.7332 - val_accuracy: 0.9314\n",
      "Epoch 44/50\n",
      "61/61 [==============================] - 0s 3ms/step - loss: 4.8193e-05 - accuracy: 1.0000 - val_loss: 0.7372 - val_accuracy: 0.9314\n",
      "Epoch 45/50\n",
      "61/61 [==============================] - 0s 3ms/step - loss: 4.9993e-05 - accuracy: 1.0000 - val_loss: 0.7409 - val_accuracy: 0.9314\n",
      "Epoch 46/50\n",
      "61/61 [==============================] - 0s 3ms/step - loss: 3.3506e-05 - accuracy: 1.0000 - val_loss: 0.7458 - val_accuracy: 0.9335\n",
      "Epoch 47/50\n",
      "61/61 [==============================] - 0s 3ms/step - loss: 3.3700e-05 - accuracy: 1.0000 - val_loss: 0.7503 - val_accuracy: 0.9335\n",
      "Epoch 48/50\n",
      "61/61 [==============================] - 0s 3ms/step - loss: 3.5074e-05 - accuracy: 1.0000 - val_loss: 0.7543 - val_accuracy: 0.9335\n",
      "Epoch 49/50\n",
      "61/61 [==============================] - 0s 3ms/step - loss: 4.2204e-05 - accuracy: 1.0000 - val_loss: 0.7585 - val_accuracy: 0.9335\n",
      "Epoch 50/50\n",
      "61/61 [==============================] - 0s 3ms/step - loss: 3.0823e-05 - accuracy: 1.0000 - val_loss: 0.7631 - val_accuracy: 0.9335\n"
     ]
    },
    {
     "data": {
      "text/plain": [
       "<keras.src.callbacks.History at 0x7f9e803b5b10>"
      ]
     },
     "execution_count": 47,
     "metadata": {},
     "output_type": "execute_result"
    }
   ],
   "source": [
    "# Build the model with the optimal hyperparameters and train it on the data\n",
    "new_model = tuner.hypermodel.build(best_hps)\n",
    "new_model.fit(X_train, y_train, epochs=50, validation_split=0.2)"
   ]
  },
  {
   "cell_type": "code",
   "execution_count": 48,
   "id": "5916b15a-12f7-4f44-8a3a-7a8c3afb23ab",
   "metadata": {},
   "outputs": [
    {
     "data": {
      "text/plain": [
       "{'units1': 320,\n",
       " 'dropout1': 0.0,\n",
       " 'units2': 224,\n",
       " 'dropout2': 0.4,\n",
       " 'learning_rate': 0.001}"
      ]
     },
     "execution_count": 48,
     "metadata": {},
     "output_type": "execute_result"
    }
   ],
   "source": [
    "best_hps.values"
   ]
  },
  {
   "cell_type": "code",
   "execution_count": 49,
   "id": "1a3e2a09-7073-46b1-8d1a-3d659a9a3ec6",
   "metadata": {},
   "outputs": [],
   "source": [
    "# # best_hps.values @ 20 iter\n",
    "\n",
    "# {'units1': 320,\n",
    "#  'dropout1': 0.0,\n",
    "#  'units2': 224,\n",
    "#  'dropout2': 0.4,\n",
    "#  'learning_rate': 0.001}"
   ]
  },
  {
   "cell_type": "code",
   "execution_count": 50,
   "id": "f12ac4c5-c873-4a01-8c9f-6da191a98ad8",
   "metadata": {},
   "outputs": [
    {
     "name": "stdout",
     "output_type": "stream",
     "text": [
      "Epoch 1/50\n",
      "61/61 [==============================] - 1s 4ms/step - loss: 0.2514 - accuracy: 0.9427 - val_loss: 0.1829 - val_accuracy: 0.9480\n",
      "Epoch 2/50\n",
      "61/61 [==============================] - 0s 3ms/step - loss: 0.1646 - accuracy: 0.9500 - val_loss: 0.1913 - val_accuracy: 0.9480\n",
      "Epoch 3/50\n",
      "61/61 [==============================] - 0s 3ms/step - loss: 0.1392 - accuracy: 0.9500 - val_loss: 0.2144 - val_accuracy: 0.9480\n",
      "Epoch 4/50\n",
      "61/61 [==============================] - 0s 2ms/step - loss: 0.1213 - accuracy: 0.9500 - val_loss: 0.2204 - val_accuracy: 0.9480\n",
      "Epoch 5/50\n",
      "61/61 [==============================] - 0s 3ms/step - loss: 0.0978 - accuracy: 0.9500 - val_loss: 0.2418 - val_accuracy: 0.9480\n",
      "Epoch 6/50\n",
      "61/61 [==============================] - 0s 3ms/step - loss: 0.0759 - accuracy: 0.9563 - val_loss: 0.2656 - val_accuracy: 0.9439\n",
      "Epoch 7/50\n",
      "61/61 [==============================] - 0s 3ms/step - loss: 0.0538 - accuracy: 0.9818 - val_loss: 0.3165 - val_accuracy: 0.9376\n",
      "Epoch 8/50\n",
      "61/61 [==============================] - 0s 3ms/step - loss: 0.0341 - accuracy: 0.9917 - val_loss: 0.3865 - val_accuracy: 0.9356\n",
      "Epoch 9/50\n",
      "61/61 [==============================] - 0s 3ms/step - loss: 0.0179 - accuracy: 0.9984 - val_loss: 0.4991 - val_accuracy: 0.9480\n",
      "Epoch 10/50\n",
      "61/61 [==============================] - 0s 3ms/step - loss: 0.0114 - accuracy: 0.9984 - val_loss: 0.4817 - val_accuracy: 0.9397\n",
      "Epoch 11/50\n",
      "61/61 [==============================] - 0s 3ms/step - loss: 0.0061 - accuracy: 0.9995 - val_loss: 0.4807 - val_accuracy: 0.9356\n",
      "Epoch 12/50\n",
      "61/61 [==============================] - 0s 3ms/step - loss: 0.0031 - accuracy: 0.9995 - val_loss: 0.5416 - val_accuracy: 0.9418\n",
      "Epoch 13/50\n",
      "61/61 [==============================] - 0s 3ms/step - loss: 0.0049 - accuracy: 0.9995 - val_loss: 0.5249 - val_accuracy: 0.9252\n",
      "Epoch 14/50\n",
      "61/61 [==============================] - 0s 3ms/step - loss: 0.0015 - accuracy: 1.0000 - val_loss: 0.5737 - val_accuracy: 0.9376\n",
      "Epoch 15/50\n",
      "61/61 [==============================] - 0s 3ms/step - loss: 0.0045 - accuracy: 0.9990 - val_loss: 0.6270 - val_accuracy: 0.9501\n",
      "Epoch 16/50\n",
      "61/61 [==============================] - 0s 3ms/step - loss: 0.0046 - accuracy: 0.9995 - val_loss: 0.5460 - val_accuracy: 0.9272\n",
      "Epoch 17/50\n",
      "61/61 [==============================] - 0s 3ms/step - loss: 0.0037 - accuracy: 0.9995 - val_loss: 0.5686 - val_accuracy: 0.9189\n",
      "Epoch 18/50\n",
      "61/61 [==============================] - 0s 3ms/step - loss: 0.0031 - accuracy: 0.9995 - val_loss: 0.5743 - val_accuracy: 0.9272\n",
      "Epoch 19/50\n",
      "61/61 [==============================] - 0s 3ms/step - loss: 6.0096e-04 - accuracy: 1.0000 - val_loss: 0.6152 - val_accuracy: 0.9376\n",
      "Epoch 20/50\n",
      "61/61 [==============================] - 0s 3ms/step - loss: 3.3376e-04 - accuracy: 1.0000 - val_loss: 0.6218 - val_accuracy: 0.9293\n",
      "Epoch 21/50\n",
      "61/61 [==============================] - 0s 3ms/step - loss: 2.7513e-04 - accuracy: 1.0000 - val_loss: 0.6342 - val_accuracy: 0.9293\n",
      "Epoch 22/50\n",
      "61/61 [==============================] - 0s 3ms/step - loss: 2.1219e-04 - accuracy: 1.0000 - val_loss: 0.6470 - val_accuracy: 0.9314\n",
      "Epoch 23/50\n",
      "61/61 [==============================] - 0s 3ms/step - loss: 2.2698e-04 - accuracy: 1.0000 - val_loss: 0.6543 - val_accuracy: 0.9293\n",
      "Epoch 24/50\n",
      "61/61 [==============================] - 0s 3ms/step - loss: 1.5273e-04 - accuracy: 1.0000 - val_loss: 0.6657 - val_accuracy: 0.9314\n",
      "Epoch 25/50\n",
      "61/61 [==============================] - 0s 3ms/step - loss: 1.2695e-04 - accuracy: 1.0000 - val_loss: 0.6711 - val_accuracy: 0.9314\n",
      "Epoch 26/50\n",
      "61/61 [==============================] - 0s 3ms/step - loss: 1.2768e-04 - accuracy: 1.0000 - val_loss: 0.6782 - val_accuracy: 0.9293\n",
      "Epoch 27/50\n",
      "61/61 [==============================] - 0s 3ms/step - loss: 1.3223e-04 - accuracy: 1.0000 - val_loss: 0.6830 - val_accuracy: 0.9293\n",
      "Epoch 28/50\n",
      "61/61 [==============================] - 0s 3ms/step - loss: 1.2296e-04 - accuracy: 1.0000 - val_loss: 0.6916 - val_accuracy: 0.9314\n",
      "Epoch 29/50\n",
      "61/61 [==============================] - 0s 3ms/step - loss: 9.4070e-05 - accuracy: 1.0000 - val_loss: 0.6987 - val_accuracy: 0.9314\n",
      "Epoch 30/50\n",
      "61/61 [==============================] - 0s 3ms/step - loss: 7.3272e-05 - accuracy: 1.0000 - val_loss: 0.7046 - val_accuracy: 0.9314\n",
      "Epoch 31/50\n",
      "61/61 [==============================] - 0s 3ms/step - loss: 7.9213e-05 - accuracy: 1.0000 - val_loss: 0.7054 - val_accuracy: 0.9293\n",
      "Epoch 32/50\n",
      "61/61 [==============================] - 0s 3ms/step - loss: 7.2818e-05 - accuracy: 1.0000 - val_loss: 0.7151 - val_accuracy: 0.9314\n",
      "Epoch 33/50\n",
      "61/61 [==============================] - 0s 3ms/step - loss: 6.1983e-05 - accuracy: 1.0000 - val_loss: 0.7174 - val_accuracy: 0.9314\n",
      "Epoch 34/50\n",
      "61/61 [==============================] - 0s 3ms/step - loss: 6.7832e-05 - accuracy: 1.0000 - val_loss: 0.7228 - val_accuracy: 0.9314\n",
      "Epoch 35/50\n",
      "61/61 [==============================] - 0s 3ms/step - loss: 8.2530e-05 - accuracy: 1.0000 - val_loss: 0.7251 - val_accuracy: 0.9293\n",
      "Epoch 36/50\n",
      "61/61 [==============================] - 0s 3ms/step - loss: 5.7983e-05 - accuracy: 1.0000 - val_loss: 0.7308 - val_accuracy: 0.9314\n",
      "Epoch 37/50\n",
      "61/61 [==============================] - 0s 3ms/step - loss: 6.3645e-05 - accuracy: 1.0000 - val_loss: 0.7322 - val_accuracy: 0.9314\n",
      "Epoch 38/50\n",
      "61/61 [==============================] - 0s 3ms/step - loss: 4.4680e-05 - accuracy: 1.0000 - val_loss: 0.7391 - val_accuracy: 0.9314\n",
      "Epoch 39/50\n",
      "61/61 [==============================] - 0s 3ms/step - loss: 4.8119e-05 - accuracy: 1.0000 - val_loss: 0.7419 - val_accuracy: 0.9314\n",
      "Epoch 40/50\n",
      "61/61 [==============================] - 0s 3ms/step - loss: 4.3421e-05 - accuracy: 1.0000 - val_loss: 0.7475 - val_accuracy: 0.9314\n",
      "Epoch 41/50\n",
      "61/61 [==============================] - 0s 3ms/step - loss: 3.6507e-05 - accuracy: 1.0000 - val_loss: 0.7522 - val_accuracy: 0.9314\n",
      "Epoch 42/50\n",
      "61/61 [==============================] - 0s 3ms/step - loss: 3.6004e-05 - accuracy: 1.0000 - val_loss: 0.7558 - val_accuracy: 0.9314\n",
      "Epoch 43/50\n",
      "61/61 [==============================] - 0s 4ms/step - loss: 3.0753e-05 - accuracy: 1.0000 - val_loss: 0.7583 - val_accuracy: 0.9314\n",
      "Epoch 44/50\n",
      "61/61 [==============================] - 0s 3ms/step - loss: 3.6651e-05 - accuracy: 1.0000 - val_loss: 0.7622 - val_accuracy: 0.9314\n",
      "Epoch 45/50\n",
      "61/61 [==============================] - 0s 3ms/step - loss: 2.9469e-05 - accuracy: 1.0000 - val_loss: 0.7643 - val_accuracy: 0.9314\n",
      "Epoch 46/50\n",
      "61/61 [==============================] - 0s 3ms/step - loss: 3.0948e-05 - accuracy: 1.0000 - val_loss: 0.7669 - val_accuracy: 0.9314\n",
      "Epoch 47/50\n",
      "61/61 [==============================] - 0s 3ms/step - loss: 2.8157e-05 - accuracy: 1.0000 - val_loss: 0.7692 - val_accuracy: 0.9314\n",
      "Epoch 48/50\n",
      "61/61 [==============================] - 0s 3ms/step - loss: 2.5646e-05 - accuracy: 1.0000 - val_loss: 0.7732 - val_accuracy: 0.9314\n",
      "Epoch 49/50\n",
      "61/61 [==============================] - 0s 3ms/step - loss: 2.7273e-05 - accuracy: 1.0000 - val_loss: 0.7771 - val_accuracy: 0.9314\n",
      "Epoch 50/50\n",
      "61/61 [==============================] - 0s 3ms/step - loss: 2.2137e-05 - accuracy: 1.0000 - val_loss: 0.7834 - val_accuracy: 0.9314\n"
     ]
    },
    {
     "data": {
      "text/plain": [
       "<keras.src.callbacks.History at 0x7f9e58062050>"
      ]
     },
     "execution_count": 50,
     "metadata": {},
     "output_type": "execute_result"
    }
   ],
   "source": [
    "# Build the model with the optimal hyperparameters but with matching input units\n",
    "better_hps = {\n",
    "    \"units1\": 384,\n",
    "    \"dropout1\": 0.0,\n",
    "    \"units2\": 224,\n",
    "    \"dropout2\": 0.4,\n",
    "    \"learning_rate\": 0.001,\n",
    "}\n",
    "better_model = tuner.hypermodel.build(best_hps)\n",
    "better_model.fit(X_train, y_train, epochs=50, validation_split=0.2)"
   ]
  },
  {
   "cell_type": "code",
   "execution_count": null,
   "id": "4cafc57c-ba9e-4007-93ee-f84a20c82643",
   "metadata": {},
   "outputs": [],
   "source": []
  }
 ],
 "metadata": {
  "kernelspec": {
   "display_name": "Python 3 (ipykernel)",
   "language": "python",
   "name": "python3"
  },
  "language_info": {
   "codemirror_mode": {
    "name": "ipython",
    "version": 3
   },
   "file_extension": ".py",
   "mimetype": "text/x-python",
   "name": "python",
   "nbconvert_exporter": "python",
   "pygments_lexer": "ipython3",
   "version": "3.11.5"
  },
  "widgets": {
   "application/vnd.jupyter.widget-state+json": {
    "state": {},
    "version_major": 2,
    "version_minor": 0
   }
  }
 },
 "nbformat": 4,
 "nbformat_minor": 5
}
